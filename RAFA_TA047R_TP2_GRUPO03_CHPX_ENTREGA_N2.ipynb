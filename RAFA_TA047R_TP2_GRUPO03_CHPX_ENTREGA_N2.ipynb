{
  "cells": [
    {
      "cell_type": "markdown",
      "metadata": {
        "id": "view-in-github",
        "colab_type": "text"
      },
      "source": [
        "<a href=\"https://colab.research.google.com/github/rafaela-arias/colabandamal/blob/main/RAFA_TA047R_TP2_GRUPO03_CHPX_ENTREGA_N2.ipynb\" target=\"_parent\"><img src=\"https://colab.research.google.com/assets/colab-badge.svg\" alt=\"Open In Colab\"/></a>"
      ]
    },
    {
      "cell_type": "markdown",
      "metadata": {
        "id": "GKZjxSB_6HAb"
      },
      "source": [
        "## Grupo 3 - Trabajo Práctico 2\n",
        "\n",
        "**Integrantes:**\n",
        "- ARIAS, Rafaela Pilar. 112272. rparias@fi.uba.ar.\n",
        "- BARCALA ROCA, Ramiro. 112478. rbarcala@fi.uba.ar.\n",
        "- LEMA, Mora. 111831. molema@fi.uba.ar.\n",
        "- IENCO, Lara Eliana. 111921. lienco@fi.uba.ar.\n"
      ]
    },
    {
      "cell_type": "markdown",
      "metadata": {
        "id": "KZGu6sHX1557"
      },
      "source": [
        "###Inicialización del entorno\n"
      ]
    },
    {
      "cell_type": "code",
      "execution_count": null,
      "metadata": {
        "id": "mW_94XYr1F7w"
      },
      "outputs": [],
      "source": [
        "# Importar las bibliotecas\n",
        "import pandas as pd\n",
        "import numpy as np\n",
        "import matplotlib.pyplot as plt\n",
        "import seaborn as sns\n",
        "\n",
        "# Preprocesamiento de texto\n",
        "import re\n",
        "import string\n",
        "from sklearn.model_selection import train_test_split\n",
        "from sklearn.metrics import classification_report, f1_score\n",
        "from sklearn.model_selection import train_test_split\n",
        "from sklearn.naive_bayes import MultinomialNB"
      ]
    },
    {
      "cell_type": "code",
      "source": [
        "#librerias necesarias para emmbedding\n",
        "!pip install torch\n",
        "!pip install torchtext\n",
        "!pip install numpy\n"
      ],
      "metadata": {
        "id": "vj2wTgWGv3lR",
        "colab": {
          "base_uri": "https://localhost:8080/"
        },
        "outputId": "6597540f-1a3d-435a-dd22-c2a1a497a233"
      },
      "execution_count": null,
      "outputs": [
        {
          "output_type": "stream",
          "name": "stdout",
          "text": [
            "Requirement already satisfied: torch in /usr/local/lib/python3.11/dist-packages (2.6.0+cpu)\n",
            "Requirement already satisfied: filelock in /usr/local/lib/python3.11/dist-packages (from torch) (3.18.0)\n",
            "Requirement already satisfied: typing-extensions>=4.10.0 in /usr/local/lib/python3.11/dist-packages (from torch) (4.14.0)\n",
            "Requirement already satisfied: networkx in /usr/local/lib/python3.11/dist-packages (from torch) (3.5)\n",
            "Requirement already satisfied: jinja2 in /usr/local/lib/python3.11/dist-packages (from torch) (3.1.6)\n",
            "Requirement already satisfied: fsspec in /usr/local/lib/python3.11/dist-packages (from torch) (2025.5.1)\n",
            "Requirement already satisfied: sympy==1.13.1 in /usr/local/lib/python3.11/dist-packages (from torch) (1.13.1)\n",
            "Requirement already satisfied: mpmath<1.4,>=1.1.0 in /usr/local/lib/python3.11/dist-packages (from sympy==1.13.1->torch) (1.3.0)\n",
            "Requirement already satisfied: MarkupSafe>=2.0 in /usr/local/lib/python3.11/dist-packages (from jinja2->torch) (3.0.2)\n",
            "Collecting torchtext\n",
            "  Downloading torchtext-0.18.0-cp311-cp311-manylinux1_x86_64.whl.metadata (7.9 kB)\n",
            "Requirement already satisfied: tqdm in /usr/local/lib/python3.11/dist-packages (from torchtext) (4.67.1)\n",
            "Requirement already satisfied: requests in /usr/local/lib/python3.11/dist-packages (from torchtext) (2.32.3)\n",
            "Requirement already satisfied: torch>=2.3.0 in /usr/local/lib/python3.11/dist-packages (from torchtext) (2.6.0+cpu)\n",
            "Requirement already satisfied: numpy in /usr/local/lib/python3.11/dist-packages (from torchtext) (2.0.2)\n",
            "Requirement already satisfied: filelock in /usr/local/lib/python3.11/dist-packages (from torch>=2.3.0->torchtext) (3.18.0)\n",
            "Requirement already satisfied: typing-extensions>=4.10.0 in /usr/local/lib/python3.11/dist-packages (from torch>=2.3.0->torchtext) (4.14.0)\n",
            "Requirement already satisfied: networkx in /usr/local/lib/python3.11/dist-packages (from torch>=2.3.0->torchtext) (3.5)\n",
            "Requirement already satisfied: jinja2 in /usr/local/lib/python3.11/dist-packages (from torch>=2.3.0->torchtext) (3.1.6)\n",
            "Requirement already satisfied: fsspec in /usr/local/lib/python3.11/dist-packages (from torch>=2.3.0->torchtext) (2025.5.1)\n",
            "Requirement already satisfied: sympy==1.13.1 in /usr/local/lib/python3.11/dist-packages (from torch>=2.3.0->torchtext) (1.13.1)\n",
            "Requirement already satisfied: mpmath<1.4,>=1.1.0 in /usr/local/lib/python3.11/dist-packages (from sympy==1.13.1->torch>=2.3.0->torchtext) (1.3.0)\n",
            "Requirement already satisfied: charset-normalizer<4,>=2 in /usr/local/lib/python3.11/dist-packages (from requests->torchtext) (3.4.2)\n",
            "Requirement already satisfied: idna<4,>=2.5 in /usr/local/lib/python3.11/dist-packages (from requests->torchtext) (3.10)\n",
            "Requirement already satisfied: urllib3<3,>=1.21.1 in /usr/local/lib/python3.11/dist-packages (from requests->torchtext) (2.4.0)\n",
            "Requirement already satisfied: certifi>=2017.4.17 in /usr/local/lib/python3.11/dist-packages (from requests->torchtext) (2025.4.26)\n",
            "Requirement already satisfied: MarkupSafe>=2.0 in /usr/local/lib/python3.11/dist-packages (from jinja2->torch>=2.3.0->torchtext) (3.0.2)\n",
            "Downloading torchtext-0.18.0-cp311-cp311-manylinux1_x86_64.whl (2.0 MB)\n",
            "\u001b[2K   \u001b[90m━━━━━━━━━━━━━━━━━━━━━━━━━━━━━━━━━━━━━━━━\u001b[0m \u001b[32m2.0/2.0 MB\u001b[0m \u001b[31m22.7 MB/s\u001b[0m eta \u001b[36m0:00:00\u001b[0m\n",
            "\u001b[?25hInstalling collected packages: torchtext\n",
            "Successfully installed torchtext-0.18.0\n",
            "Requirement already satisfied: numpy in /usr/local/lib/python3.11/dist-packages (2.0.2)\n"
          ]
        }
      ]
    },
    {
      "cell_type": "code",
      "execution_count": null,
      "metadata": {
        "id": "EX1B7UWa7brr",
        "colab": {
          "base_uri": "https://localhost:8080/"
        },
        "outputId": "eb42b236-2e58-4456-8322-d90ff4697d93"
      },
      "outputs": [
        {
          "output_type": "stream",
          "name": "stdout",
          "text": [
            "Requirement already satisfied: nltk in /usr/local/lib/python3.11/dist-packages (3.9.1)\n",
            "Requirement already satisfied: click in /usr/local/lib/python3.11/dist-packages (from nltk) (8.2.1)\n",
            "Requirement already satisfied: joblib in /usr/local/lib/python3.11/dist-packages (from nltk) (1.5.1)\n",
            "Requirement already satisfied: regex>=2021.8.3 in /usr/local/lib/python3.11/dist-packages (from nltk) (2024.11.6)\n",
            "Requirement already satisfied: tqdm in /usr/local/lib/python3.11/dist-packages (from nltk) (4.67.1)\n"
          ]
        }
      ],
      "source": [
        "!pip install nltk"
      ]
    },
    {
      "cell_type": "code",
      "source": [
        "import nltk"
      ],
      "metadata": {
        "id": "0ZGglLKCSFYl"
      },
      "execution_count": null,
      "outputs": []
    },
    {
      "cell_type": "code",
      "source": [
        "nltk.download('punkt_tab')\n",
        "nltk.download('stopwords')\n",
        "\n",
        "from nltk.tokenize import word_tokenize\n",
        "from nltk.corpus import stopwords"
      ],
      "metadata": {
        "colab": {
          "base_uri": "https://localhost:8080/"
        },
        "id": "qV1HMV9rR6Uq",
        "outputId": "11cc42f8-fa9d-4212-c572-10ab739dc4b7"
      },
      "execution_count": null,
      "outputs": [
        {
          "output_type": "stream",
          "name": "stderr",
          "text": [
            "[nltk_data] Downloading package punkt_tab to /root/nltk_data...\n",
            "[nltk_data]   Unzipping tokenizers/punkt_tab.zip.\n",
            "[nltk_data] Downloading package stopwords to /root/nltk_data...\n",
            "[nltk_data]   Unzipping corpora/stopwords.zip.\n"
          ]
        }
      ]
    },
    {
      "cell_type": "code",
      "execution_count": null,
      "metadata": {
        "id": "s31R0tGC2NOw",
        "colab": {
          "base_uri": "https://localhost:8080/"
        },
        "outputId": "cfd44ac0-bd31-439e-b21d-3e580464de59"
      },
      "outputs": [
        {
          "output_type": "stream",
          "name": "stdout",
          "text": [
            "Downloading...\n",
            "From: https://drive.google.com/uc?id=1rbGVg-g0_H4UxviHdM3KFEHv5_DjJd-P\n",
            "To: /content/test.csv\n",
            "100% 11.1M/11.1M [00:00<00:00, 39.0MB/s]\n",
            "Downloading...\n",
            "From: https://drive.google.com/uc?id=19RRGPOcV-gQojb7G3wCtu1pY2Q4fQs_y\n",
            "To: /content/train.csv\n",
            "100% 72.2M/72.2M [00:00<00:00, 72.7MB/s]\n"
          ]
        }
      ],
      "source": [
        "#Cargamos los datos al Notebook\n",
        "\n",
        "!gdown 1rbGVg-g0_H4UxviHdM3KFEHv5_DjJd-P\n",
        "!gdown 19RRGPOcV-gQojb7G3wCtu1pY2Q4fQs_y"
      ]
    },
    {
      "cell_type": "code",
      "execution_count": null,
      "metadata": {
        "id": "c761UhUS4vao",
        "colab": {
          "base_uri": "https://localhost:8080/",
          "height": 432
        },
        "outputId": "e5bde038-aede-4b08-c214-3a231f192d99"
      },
      "outputs": [
        {
          "output_type": "stream",
          "name": "stdout",
          "text": [
            "Train - Columnas: 3 Filas: 50000\n",
            "Test - Columnas: 2 Filas: 8599\n",
            "\n",
            "Primeras filas del train:\n"
          ]
        },
        {
          "output_type": "display_data",
          "data": {
            "text/plain": [
              "   ID                                          review_es sentimiento\n",
              "0   0  Uno de los otros críticos ha mencionado que de...    positivo\n",
              "1   1  Una pequeña pequeña producción.La técnica de f...    positivo\n",
              "2   2  Pensé que esta era una manera maravillosa de p...    positivo\n",
              "3   3  Básicamente, hay una familia donde un niño peq...    negativo\n",
              "4   4  El \"amor en el tiempo\" de Petter Mattei es una...    positivo"
            ],
            "text/html": [
              "\n",
              "  <div id=\"df-142d41b7-7154-47e7-8358-0dbec2e3b2ea\" class=\"colab-df-container\">\n",
              "    <div>\n",
              "<style scoped>\n",
              "    .dataframe tbody tr th:only-of-type {\n",
              "        vertical-align: middle;\n",
              "    }\n",
              "\n",
              "    .dataframe tbody tr th {\n",
              "        vertical-align: top;\n",
              "    }\n",
              "\n",
              "    .dataframe thead th {\n",
              "        text-align: right;\n",
              "    }\n",
              "</style>\n",
              "<table border=\"1\" class=\"dataframe\">\n",
              "  <thead>\n",
              "    <tr style=\"text-align: right;\">\n",
              "      <th></th>\n",
              "      <th>ID</th>\n",
              "      <th>review_es</th>\n",
              "      <th>sentimiento</th>\n",
              "    </tr>\n",
              "  </thead>\n",
              "  <tbody>\n",
              "    <tr>\n",
              "      <th>0</th>\n",
              "      <td>0</td>\n",
              "      <td>Uno de los otros críticos ha mencionado que de...</td>\n",
              "      <td>positivo</td>\n",
              "    </tr>\n",
              "    <tr>\n",
              "      <th>1</th>\n",
              "      <td>1</td>\n",
              "      <td>Una pequeña pequeña producción.La técnica de f...</td>\n",
              "      <td>positivo</td>\n",
              "    </tr>\n",
              "    <tr>\n",
              "      <th>2</th>\n",
              "      <td>2</td>\n",
              "      <td>Pensé que esta era una manera maravillosa de p...</td>\n",
              "      <td>positivo</td>\n",
              "    </tr>\n",
              "    <tr>\n",
              "      <th>3</th>\n",
              "      <td>3</td>\n",
              "      <td>Básicamente, hay una familia donde un niño peq...</td>\n",
              "      <td>negativo</td>\n",
              "    </tr>\n",
              "    <tr>\n",
              "      <th>4</th>\n",
              "      <td>4</td>\n",
              "      <td>El \"amor en el tiempo\" de Petter Mattei es una...</td>\n",
              "      <td>positivo</td>\n",
              "    </tr>\n",
              "  </tbody>\n",
              "</table>\n",
              "</div>\n",
              "    <div class=\"colab-df-buttons\">\n",
              "\n",
              "  <div class=\"colab-df-container\">\n",
              "    <button class=\"colab-df-convert\" onclick=\"convertToInteractive('df-142d41b7-7154-47e7-8358-0dbec2e3b2ea')\"\n",
              "            title=\"Convert this dataframe to an interactive table.\"\n",
              "            style=\"display:none;\">\n",
              "\n",
              "  <svg xmlns=\"http://www.w3.org/2000/svg\" height=\"24px\" viewBox=\"0 -960 960 960\">\n",
              "    <path d=\"M120-120v-720h720v720H120Zm60-500h600v-160H180v160Zm220 220h160v-160H400v160Zm0 220h160v-160H400v160ZM180-400h160v-160H180v160Zm440 0h160v-160H620v160ZM180-180h160v-160H180v160Zm440 0h160v-160H620v160Z\"/>\n",
              "  </svg>\n",
              "    </button>\n",
              "\n",
              "  <style>\n",
              "    .colab-df-container {\n",
              "      display:flex;\n",
              "      gap: 12px;\n",
              "    }\n",
              "\n",
              "    .colab-df-convert {\n",
              "      background-color: #E8F0FE;\n",
              "      border: none;\n",
              "      border-radius: 50%;\n",
              "      cursor: pointer;\n",
              "      display: none;\n",
              "      fill: #1967D2;\n",
              "      height: 32px;\n",
              "      padding: 0 0 0 0;\n",
              "      width: 32px;\n",
              "    }\n",
              "\n",
              "    .colab-df-convert:hover {\n",
              "      background-color: #E2EBFA;\n",
              "      box-shadow: 0px 1px 2px rgba(60, 64, 67, 0.3), 0px 1px 3px 1px rgba(60, 64, 67, 0.15);\n",
              "      fill: #174EA6;\n",
              "    }\n",
              "\n",
              "    .colab-df-buttons div {\n",
              "      margin-bottom: 4px;\n",
              "    }\n",
              "\n",
              "    [theme=dark] .colab-df-convert {\n",
              "      background-color: #3B4455;\n",
              "      fill: #D2E3FC;\n",
              "    }\n",
              "\n",
              "    [theme=dark] .colab-df-convert:hover {\n",
              "      background-color: #434B5C;\n",
              "      box-shadow: 0px 1px 3px 1px rgba(0, 0, 0, 0.15);\n",
              "      filter: drop-shadow(0px 1px 2px rgba(0, 0, 0, 0.3));\n",
              "      fill: #FFFFFF;\n",
              "    }\n",
              "  </style>\n",
              "\n",
              "    <script>\n",
              "      const buttonEl =\n",
              "        document.querySelector('#df-142d41b7-7154-47e7-8358-0dbec2e3b2ea button.colab-df-convert');\n",
              "      buttonEl.style.display =\n",
              "        google.colab.kernel.accessAllowed ? 'block' : 'none';\n",
              "\n",
              "      async function convertToInteractive(key) {\n",
              "        const element = document.querySelector('#df-142d41b7-7154-47e7-8358-0dbec2e3b2ea');\n",
              "        const dataTable =\n",
              "          await google.colab.kernel.invokeFunction('convertToInteractive',\n",
              "                                                    [key], {});\n",
              "        if (!dataTable) return;\n",
              "\n",
              "        const docLinkHtml = 'Like what you see? Visit the ' +\n",
              "          '<a target=\"_blank\" href=https://colab.research.google.com/notebooks/data_table.ipynb>data table notebook</a>'\n",
              "          + ' to learn more about interactive tables.';\n",
              "        element.innerHTML = '';\n",
              "        dataTable['output_type'] = 'display_data';\n",
              "        await google.colab.output.renderOutput(dataTable, element);\n",
              "        const docLink = document.createElement('div');\n",
              "        docLink.innerHTML = docLinkHtml;\n",
              "        element.appendChild(docLink);\n",
              "      }\n",
              "    </script>\n",
              "  </div>\n",
              "\n",
              "\n",
              "    <div id=\"df-6c950369-1a9c-49f0-b771-d4b4d1b34cf4\">\n",
              "      <button class=\"colab-df-quickchart\" onclick=\"quickchart('df-6c950369-1a9c-49f0-b771-d4b4d1b34cf4')\"\n",
              "                title=\"Suggest charts\"\n",
              "                style=\"display:none;\">\n",
              "\n",
              "<svg xmlns=\"http://www.w3.org/2000/svg\" height=\"24px\"viewBox=\"0 0 24 24\"\n",
              "     width=\"24px\">\n",
              "    <g>\n",
              "        <path d=\"M19 3H5c-1.1 0-2 .9-2 2v14c0 1.1.9 2 2 2h14c1.1 0 2-.9 2-2V5c0-1.1-.9-2-2-2zM9 17H7v-7h2v7zm4 0h-2V7h2v10zm4 0h-2v-4h2v4z\"/>\n",
              "    </g>\n",
              "</svg>\n",
              "      </button>\n",
              "\n",
              "<style>\n",
              "  .colab-df-quickchart {\n",
              "      --bg-color: #E8F0FE;\n",
              "      --fill-color: #1967D2;\n",
              "      --hover-bg-color: #E2EBFA;\n",
              "      --hover-fill-color: #174EA6;\n",
              "      --disabled-fill-color: #AAA;\n",
              "      --disabled-bg-color: #DDD;\n",
              "  }\n",
              "\n",
              "  [theme=dark] .colab-df-quickchart {\n",
              "      --bg-color: #3B4455;\n",
              "      --fill-color: #D2E3FC;\n",
              "      --hover-bg-color: #434B5C;\n",
              "      --hover-fill-color: #FFFFFF;\n",
              "      --disabled-bg-color: #3B4455;\n",
              "      --disabled-fill-color: #666;\n",
              "  }\n",
              "\n",
              "  .colab-df-quickchart {\n",
              "    background-color: var(--bg-color);\n",
              "    border: none;\n",
              "    border-radius: 50%;\n",
              "    cursor: pointer;\n",
              "    display: none;\n",
              "    fill: var(--fill-color);\n",
              "    height: 32px;\n",
              "    padding: 0;\n",
              "    width: 32px;\n",
              "  }\n",
              "\n",
              "  .colab-df-quickchart:hover {\n",
              "    background-color: var(--hover-bg-color);\n",
              "    box-shadow: 0 1px 2px rgba(60, 64, 67, 0.3), 0 1px 3px 1px rgba(60, 64, 67, 0.15);\n",
              "    fill: var(--button-hover-fill-color);\n",
              "  }\n",
              "\n",
              "  .colab-df-quickchart-complete:disabled,\n",
              "  .colab-df-quickchart-complete:disabled:hover {\n",
              "    background-color: var(--disabled-bg-color);\n",
              "    fill: var(--disabled-fill-color);\n",
              "    box-shadow: none;\n",
              "  }\n",
              "\n",
              "  .colab-df-spinner {\n",
              "    border: 2px solid var(--fill-color);\n",
              "    border-color: transparent;\n",
              "    border-bottom-color: var(--fill-color);\n",
              "    animation:\n",
              "      spin 1s steps(1) infinite;\n",
              "  }\n",
              "\n",
              "  @keyframes spin {\n",
              "    0% {\n",
              "      border-color: transparent;\n",
              "      border-bottom-color: var(--fill-color);\n",
              "      border-left-color: var(--fill-color);\n",
              "    }\n",
              "    20% {\n",
              "      border-color: transparent;\n",
              "      border-left-color: var(--fill-color);\n",
              "      border-top-color: var(--fill-color);\n",
              "    }\n",
              "    30% {\n",
              "      border-color: transparent;\n",
              "      border-left-color: var(--fill-color);\n",
              "      border-top-color: var(--fill-color);\n",
              "      border-right-color: var(--fill-color);\n",
              "    }\n",
              "    40% {\n",
              "      border-color: transparent;\n",
              "      border-right-color: var(--fill-color);\n",
              "      border-top-color: var(--fill-color);\n",
              "    }\n",
              "    60% {\n",
              "      border-color: transparent;\n",
              "      border-right-color: var(--fill-color);\n",
              "    }\n",
              "    80% {\n",
              "      border-color: transparent;\n",
              "      border-right-color: var(--fill-color);\n",
              "      border-bottom-color: var(--fill-color);\n",
              "    }\n",
              "    90% {\n",
              "      border-color: transparent;\n",
              "      border-bottom-color: var(--fill-color);\n",
              "    }\n",
              "  }\n",
              "</style>\n",
              "\n",
              "      <script>\n",
              "        async function quickchart(key) {\n",
              "          const quickchartButtonEl =\n",
              "            document.querySelector('#' + key + ' button');\n",
              "          quickchartButtonEl.disabled = true;  // To prevent multiple clicks.\n",
              "          quickchartButtonEl.classList.add('colab-df-spinner');\n",
              "          try {\n",
              "            const charts = await google.colab.kernel.invokeFunction(\n",
              "                'suggestCharts', [key], {});\n",
              "          } catch (error) {\n",
              "            console.error('Error during call to suggestCharts:', error);\n",
              "          }\n",
              "          quickchartButtonEl.classList.remove('colab-df-spinner');\n",
              "          quickchartButtonEl.classList.add('colab-df-quickchart-complete');\n",
              "        }\n",
              "        (() => {\n",
              "          let quickchartButtonEl =\n",
              "            document.querySelector('#df-6c950369-1a9c-49f0-b771-d4b4d1b34cf4 button');\n",
              "          quickchartButtonEl.style.display =\n",
              "            google.colab.kernel.accessAllowed ? 'block' : 'none';\n",
              "        })();\n",
              "      </script>\n",
              "    </div>\n",
              "\n",
              "    </div>\n",
              "  </div>\n"
            ],
            "application/vnd.google.colaboratory.intrinsic+json": {
              "type": "dataframe",
              "summary": "{\n  \"name\": \"print(train_df['sentimiento']\",\n  \"rows\": 5,\n  \"fields\": [\n    {\n      \"column\": \"ID\",\n      \"properties\": {\n        \"dtype\": \"number\",\n        \"std\": 1,\n        \"min\": 0,\n        \"max\": 4,\n        \"num_unique_values\": 5,\n        \"samples\": [\n          1,\n          4,\n          2\n        ],\n        \"semantic_type\": \"\",\n        \"description\": \"\"\n      }\n    },\n    {\n      \"column\": \"review_es\",\n      \"properties\": {\n        \"dtype\": \"string\",\n        \"num_unique_values\": 5,\n        \"samples\": [\n          \"Una peque\\u00f1a peque\\u00f1a producci\\u00f3n.La t\\u00e9cnica de filmaci\\u00f3n es muy incuestionable, muy antigua, la moda de la BBC y le da una sensaci\\u00f3n de realismo reconfortante, y, a veces, inc\\u00f3modo, y, a veces, a la pieza.Los actores son extremadamente bien elegidos, Michael Sheen, no solo \\\"tiene todo el polari\\\", \\u00a1pero tiene todas las voces por palmaditas!Realmente puede ver la edici\\u00f3n perfecta guiada por las referencias a las entradas del diario de Williams, no solo vale la pena la observaci\\u00f3n, pero es una pieza imperrementemente escrita y realizada.Una producci\\u00f3n magistral sobre uno de los grandes maestros de la comedia y su vida.El realismo realmente llega a casa con las peque\\u00f1as cosas: la fantas\\u00eda del guardia que, en lugar de usar las t\\u00e9cnicas de \\\"sue\\u00f1o\\\" tradicionales permanece s\\u00f3lido, entonces desaparece.Se desempe\\u00f1a nuestro conocimiento y nuestros sentidos, particularmente con las escenas relacionadas con Orton y Halliwell y los conjuntos (particularmente de su apartamento con murales de Halliwell que decoran cada superficie) est\\u00e1n terriblemente bien hechos.\",\n          \"El \\\"amor en el tiempo\\\" de Petter Mattei es una pel\\u00edcula visualmente impresionante para ver. El Sr. Mattei nos ofrece un retrato v\\u00edvido sobre las relaciones humanas. Esta es una pel\\u00edcula que parece estar dici\\u00e9ndonos qu\\u00e9 dinero, poder y \\u00e9xito le hacen a las personas en las diferentes situaciones que encontramos. Esta es una variaci\\u00f3n en el desempe\\u00f1o de Arthur Schnitzler sobre el mismo tema, el director transfiere la acci\\u00f3n a la actual Nueva York, donde todos estos personajes diferentes se re\\u00fanen y se conectan. Cada uno est\\u00e1 conectado de una manera u otro a la siguiente persona, pero nadie parece conocer el punto de contacto anterior. Con estilo, la pel\\u00edcula tiene un aspecto lujoso sofisticado. Nos toman para ver c\\u00f3mo viven estas personas y el mundo que viven en su propio h\\u00e1bitat. La \\u00fanica cosa que se sale de todas estas almas en la imagen son las diferentes etapas de la soledad, cada uno habita. Una gran ciudad no es exactamente el mejor lugar en el que las relaciones humanas encuentran un cumplimiento sincero, ya que un discernimiento es el caso con la mayor\\u00eda de las personas que encontramos. La actuaci\\u00f3n es buena bajo la direcci\\u00f3n del Sr. Mattei. Steve Buscemi, Rosario Dawson, Carol Kane, Michael Imperioli, Adrian Grenier y el resto del talentoso elenco, hacen que estos personajes cobren vida. Les deseamos que el Sr. Mattei tenga buena suerte y espere ansiosamente su pr\\u00f3ximo trabajo.\",\n          \"Pens\\u00e9 que esta era una manera maravillosa de pasar tiempo en un fin de semana de verano demasiado caliente, sentado en el teatro con aire acondicionado y observando una comedia alegre.La parcela es simplista, pero el di\\u00e1logo es ingenioso y los personajes son agradables (incluso el asesino en serie de la sospecha de pan del pozo).Mientras que algunos pueden decepcionarse cuando se dan cuenta de que este no es el punto de partido 2: la adicci\\u00f3n al riesgo, pens\\u00e9 que era una prueba de que Woody Allen todav\\u00eda est\\u00e1 en control del estilo que muchos de nosotros hemos crecido a amar. Esto fue el m\\u00e1s re\\u00eddo.En una de las comedias de Woody en a\\u00f1os (\\u00a1Dare, digo una d\\u00e9cada?).Mientras nunca me qued\\u00e9 impresionado con Scarlet Johanson, en esto logr\\u00f3 tonificar su imagen \\\"sexy\\\" y salt\\u00f3 a una joven promedio, pero en\\u00e9rgica. Esto puede que no sea la joya de la corona de su carrera, pero fue Wittier.\\\"El diablo viste prada\\\" y m\\u00e1s interesante que \\\"Superman\\\" una gran comedia para ir a ver con amigos.\"\n        ],\n        \"semantic_type\": \"\",\n        \"description\": \"\"\n      }\n    },\n    {\n      \"column\": \"sentimiento\",\n      \"properties\": {\n        \"dtype\": \"category\",\n        \"num_unique_values\": 2,\n        \"samples\": [\n          \"negativo\",\n          \"positivo\"\n        ],\n        \"semantic_type\": \"\",\n        \"description\": \"\"\n      }\n    }\n  ]\n}"
            }
          },
          "metadata": {}
        },
        {
          "output_type": "stream",
          "name": "stdout",
          "text": [
            "\n",
            "Columnas del train:\n",
            "Index(['ID', 'review_es', 'sentimiento'], dtype='object')\n",
            "\n",
            "Distribución de clases:\n",
            "sentimiento\n",
            "positivo    25000\n",
            "negativo    25000\n",
            "Name: count, dtype: int64\n"
          ]
        }
      ],
      "source": [
        "train_df = pd.read_csv('/content/train.csv')\n",
        "test_df = pd.read_csv('/content/test.csv')\n",
        "\n",
        "print(\"Train - Columnas:\", train_df.shape[1], \"Filas:\", train_df.shape[0])\n",
        "print(\"Test - Columnas:\", test_df.shape[1], \"Filas:\", test_df.shape[0])\n",
        "\n",
        "print(\"\\nPrimeras filas del train:\")\n",
        "display(train_df.head())\n",
        "\n",
        "print(\"\\nColumnas del train:\")\n",
        "print(train_df.columns)\n",
        "\n",
        "print(\"\\nDistribución de clases:\")\n",
        "print(train_df['sentimiento'].value_counts())\n"
      ]
    },
    {
      "cell_type": "markdown",
      "metadata": {
        "id": "0i_axKABn-kv"
      },
      "source": [
        "Observamos la cantidad de filas nulas en ambos conjuntos (train y test) y la cantidad de filas duplicadas"
      ]
    },
    {
      "cell_type": "code",
      "execution_count": null,
      "metadata": {
        "id": "k9gg8R8RSda9",
        "colab": {
          "base_uri": "https://localhost:8080/"
        },
        "outputId": "08ab1c8b-5dab-4b79-cb0f-378a031eb932"
      },
      "outputs": [
        {
          "output_type": "stream",
          "name": "stdout",
          "text": [
            "Cantidad total de valores NaN en el dataset train: 0\n",
            "Cantidad total de valores NaN en el dataset test: 0\n"
          ]
        }
      ],
      "source": [
        "print(\"Cantidad total de valores NaN en el dataset train:\", train_df.isnull().sum().sum())\n",
        "print(\"Cantidad total de valores NaN en el dataset test:\", test_df.isnull().sum().sum())"
      ]
    },
    {
      "cell_type": "code",
      "execution_count": null,
      "metadata": {
        "id": "THoy0vKHoMFf",
        "colab": {
          "base_uri": "https://localhost:8080/"
        },
        "outputId": "e1e1174f-59ee-4a46-8bfb-33d784b895be"
      },
      "outputs": [
        {
          "output_type": "stream",
          "name": "stdout",
          "text": [
            "Cantidad de filas duplicadas en el dataset train: 0\n",
            "Cantidad de filas duplicadas en el dataset test: 0\n"
          ]
        }
      ],
      "source": [
        "duplicadas_train = train_df.duplicated().sum()\n",
        "print(\"Cantidad de filas duplicadas en el dataset train:\", duplicadas_train)\n",
        "\n",
        "duplicadas_test = test_df.duplicated().sum()\n",
        "print(\"Cantidad de filas duplicadas en el dataset test:\", duplicadas_test)"
      ]
    },
    {
      "cell_type": "markdown",
      "metadata": {
        "id": "owmieSkNonmP"
      },
      "source": [
        "Al no haber duplicadas ni filas con NaN, no tuvimos que hacer nada al respecto."
      ]
    },
    {
      "cell_type": "markdown",
      "metadata": {
        "id": "Kv2q7jGcHWzY"
      },
      "source": [
        "###Preprocesamiento de los datos\n"
      ]
    },
    {
      "cell_type": "markdown",
      "metadata": {
        "id": "DZGb1Pnc6eDy"
      },
      "source": [
        "###Limpieza y Tokenización\n"
      ]
    },
    {
      "cell_type": "markdown",
      "metadata": {
        "id": "K6Wr7fA2nk_D"
      },
      "source": [
        "Veamos si las clases están balanceadas"
      ]
    },
    {
      "cell_type": "code",
      "execution_count": null,
      "metadata": {
        "id": "oZ84zeA65utC",
        "colab": {
          "base_uri": "https://localhost:8080/",
          "height": 178
        },
        "outputId": "3cdd1f38-5cec-485b-ecdb-3bd24d122390"
      },
      "outputs": [
        {
          "output_type": "execute_result",
          "data": {
            "text/plain": [
              "sentimiento\n",
              "positivo    25000\n",
              "negativo    25000\n",
              "Name: count, dtype: int64"
            ],
            "text/html": [
              "<div>\n",
              "<style scoped>\n",
              "    .dataframe tbody tr th:only-of-type {\n",
              "        vertical-align: middle;\n",
              "    }\n",
              "\n",
              "    .dataframe tbody tr th {\n",
              "        vertical-align: top;\n",
              "    }\n",
              "\n",
              "    .dataframe thead th {\n",
              "        text-align: right;\n",
              "    }\n",
              "</style>\n",
              "<table border=\"1\" class=\"dataframe\">\n",
              "  <thead>\n",
              "    <tr style=\"text-align: right;\">\n",
              "      <th></th>\n",
              "      <th>count</th>\n",
              "    </tr>\n",
              "    <tr>\n",
              "      <th>sentimiento</th>\n",
              "      <th></th>\n",
              "    </tr>\n",
              "  </thead>\n",
              "  <tbody>\n",
              "    <tr>\n",
              "      <th>positivo</th>\n",
              "      <td>25000</td>\n",
              "    </tr>\n",
              "    <tr>\n",
              "      <th>negativo</th>\n",
              "      <td>25000</td>\n",
              "    </tr>\n",
              "  </tbody>\n",
              "</table>\n",
              "</div><br><label><b>dtype:</b> int64</label>"
            ]
          },
          "metadata": {},
          "execution_count": 10
        }
      ],
      "source": [
        "train_df['sentimiento'].value_counts()"
      ]
    },
    {
      "cell_type": "markdown",
      "metadata": {
        "id": "D-NPersznqZw"
      },
      "source": [
        "Separamos el dataset en entrenamiento 80% y test 20%"
      ]
    },
    {
      "cell_type": "code",
      "execution_count": null,
      "metadata": {
        "id": "qpifZf4D6IDs"
      },
      "outputs": [],
      "source": [
        "X = train_df['review_es']\n",
        "y = train_df['sentimiento']\n",
        "\n",
        "#Stratify para balancear la división\n",
        "X_train_text, X_val_text, y_train, y_val = train_test_split(X,\n",
        "                                                            y,\n",
        "                                                            test_size = 0.2,\n",
        "                                                            random_state = 42,\n",
        "                                                            stratify = y\n",
        ")"
      ]
    },
    {
      "cell_type": "code",
      "execution_count": null,
      "metadata": {
        "id": "Wg4XHYET59fU",
        "colab": {
          "base_uri": "https://localhost:8080/",
          "height": 178
        },
        "outputId": "9d53f427-5c98-4fd9-8ecb-e46ce2300b04"
      },
      "outputs": [
        {
          "output_type": "execute_result",
          "data": {
            "text/plain": [
              "sentimiento\n",
              "positivo    20000\n",
              "negativo    20000\n",
              "Name: count, dtype: int64"
            ],
            "text/html": [
              "<div>\n",
              "<style scoped>\n",
              "    .dataframe tbody tr th:only-of-type {\n",
              "        vertical-align: middle;\n",
              "    }\n",
              "\n",
              "    .dataframe tbody tr th {\n",
              "        vertical-align: top;\n",
              "    }\n",
              "\n",
              "    .dataframe thead th {\n",
              "        text-align: right;\n",
              "    }\n",
              "</style>\n",
              "<table border=\"1\" class=\"dataframe\">\n",
              "  <thead>\n",
              "    <tr style=\"text-align: right;\">\n",
              "      <th></th>\n",
              "      <th>count</th>\n",
              "    </tr>\n",
              "    <tr>\n",
              "      <th>sentimiento</th>\n",
              "      <th></th>\n",
              "    </tr>\n",
              "  </thead>\n",
              "  <tbody>\n",
              "    <tr>\n",
              "      <th>positivo</th>\n",
              "      <td>20000</td>\n",
              "    </tr>\n",
              "    <tr>\n",
              "      <th>negativo</th>\n",
              "      <td>20000</td>\n",
              "    </tr>\n",
              "  </tbody>\n",
              "</table>\n",
              "</div><br><label><b>dtype:</b> int64</label>"
            ]
          },
          "metadata": {},
          "execution_count": 12
        }
      ],
      "source": [
        "y_train.value_counts()"
      ]
    },
    {
      "cell_type": "code",
      "execution_count": null,
      "metadata": {
        "id": "MkGM9HfB6C-Z",
        "colab": {
          "base_uri": "https://localhost:8080/",
          "height": 178
        },
        "outputId": "d396549b-cba4-487a-d0b3-869be7b502c1"
      },
      "outputs": [
        {
          "output_type": "execute_result",
          "data": {
            "text/plain": [
              "sentimiento\n",
              "negativo    5000\n",
              "positivo    5000\n",
              "Name: count, dtype: int64"
            ],
            "text/html": [
              "<div>\n",
              "<style scoped>\n",
              "    .dataframe tbody tr th:only-of-type {\n",
              "        vertical-align: middle;\n",
              "    }\n",
              "\n",
              "    .dataframe tbody tr th {\n",
              "        vertical-align: top;\n",
              "    }\n",
              "\n",
              "    .dataframe thead th {\n",
              "        text-align: right;\n",
              "    }\n",
              "</style>\n",
              "<table border=\"1\" class=\"dataframe\">\n",
              "  <thead>\n",
              "    <tr style=\"text-align: right;\">\n",
              "      <th></th>\n",
              "      <th>count</th>\n",
              "    </tr>\n",
              "    <tr>\n",
              "      <th>sentimiento</th>\n",
              "      <th></th>\n",
              "    </tr>\n",
              "  </thead>\n",
              "  <tbody>\n",
              "    <tr>\n",
              "      <th>negativo</th>\n",
              "      <td>5000</td>\n",
              "    </tr>\n",
              "    <tr>\n",
              "      <th>positivo</th>\n",
              "      <td>5000</td>\n",
              "    </tr>\n",
              "  </tbody>\n",
              "</table>\n",
              "</div><br><label><b>dtype:</b> int64</label>"
            ]
          },
          "metadata": {},
          "execution_count": 13
        }
      ],
      "source": [
        "y_val.value_counts()"
      ]
    },
    {
      "cell_type": "code",
      "execution_count": null,
      "metadata": {
        "id": "mY0IIL3l7vDo"
      },
      "outputs": [],
      "source": [
        "def clean_text(text):\n",
        "    text = text.lower()\n",
        "    #re.sub(patron, remplazo, string) --> Devuelve el string con el patron reemplazado\n",
        "\n",
        "    text = re.sub(r'([.,!?;:])', r' \\1 ', text)  #Añade espacio después de puntos y comas si no hay (para que no se junten palabras)\n",
        "    text = re.sub(r'[^a-záéíóúüñ\\s]', '', text) #Reemplaza todo lo que no sea letra o espacio\n",
        "    text = re.sub(r'\\s+[a-záéíóúüñ]\\s+', ' ', text)  #Elimina letras sueltas entre espacios\n",
        "    text = re.sub(r'\\s+', ' ', text) #Y si se me juntaron varios espacios, los mergeo en uno\n",
        "    return text.strip()\n"
      ]
    },
    {
      "cell_type": "markdown",
      "metadata": {
        "id": "FrzukvgMPPf-"
      },
      "source": [
        "Descargamos el modelo de spaCy para español para usarlo en la función de Lemmatización"
      ]
    },
    {
      "cell_type": "code",
      "execution_count": null,
      "metadata": {
        "id": "yM7lk6NCPOl2",
        "colab": {
          "base_uri": "https://localhost:8080/"
        },
        "outputId": "9643ae47-9485-4dd2-b3ee-6bb94e70c3c0"
      },
      "outputs": [
        {
          "output_type": "stream",
          "name": "stdout",
          "text": [
            "Collecting es-core-news-sm==3.8.0\n",
            "  Downloading https://github.com/explosion/spacy-models/releases/download/es_core_news_sm-3.8.0/es_core_news_sm-3.8.0-py3-none-any.whl (12.9 MB)\n",
            "\u001b[2K     \u001b[90m━━━━━━━━━━━━━━━━━━━━━━━━━━━━━━━━━━━━━━━\u001b[0m \u001b[32m12.9/12.9 MB\u001b[0m \u001b[31m113.6 MB/s\u001b[0m eta \u001b[36m0:00:00\u001b[0m\n",
            "\u001b[?25hInstalling collected packages: es-core-news-sm\n",
            "Successfully installed es-core-news-sm-3.8.0\n",
            "\u001b[38;5;2m✔ Download and installation successful\u001b[0m\n",
            "You can now load the package via spacy.load('es_core_news_sm')\n",
            "\u001b[38;5;3m⚠ Restart to reload dependencies\u001b[0m\n",
            "If you are in a Jupyter or Colab notebook, you may need to restart Python in\n",
            "order to load all the package's dependencies. You can do this by selecting the\n",
            "'Restart kernel' or 'Restart runtime' option.\n"
          ]
        }
      ],
      "source": [
        "!python -m spacy download es_core_news_sm"
      ]
    },
    {
      "cell_type": "code",
      "execution_count": null,
      "metadata": {
        "id": "TiBW2_gFNzIe"
      },
      "outputs": [],
      "source": [
        "import spacy\n",
        "\n",
        "#Cargar el modelo de español\n",
        "nlp = spacy.load(\"es_core_news_sm\")\n",
        "\n",
        "#Función de lematización\n",
        "def lemmatize_text(text):\n",
        "    doc = nlp(text)\n",
        "    return \" \".join([token.lemma_ for token in doc if token.lemma_.isalpha()])"
      ]
    },
    {
      "cell_type": "markdown",
      "metadata": {
        "id": "f0WcxFBCNSQL"
      },
      "source": [
        "Integramos clean_text y lemmatize_text en una función"
      ]
    },
    {
      "cell_type": "code",
      "execution_count": null,
      "metadata": {
        "id": "250nx9TUNKkO"
      },
      "outputs": [],
      "source": [
        "def clean_and_lemmatize(text):\n",
        "    cleaned = clean_text(text)\n",
        "    lemmatized = lemmatize_text(cleaned)\n",
        "    return lemmatized"
      ]
    },
    {
      "cell_type": "code",
      "execution_count": null,
      "metadata": {
        "id": "KweAumwO75jn",
        "colab": {
          "base_uri": "https://localhost:8080/"
        },
        "outputId": "044a80eb-13bc-4aa0-f3c8-dd21afcfed8a"
      },
      "outputs": [
        {
          "output_type": "execute_result",
          "data": {
            "text/plain": [
              "['de',\n",
              " 'la',\n",
              " 'que',\n",
              " 'el',\n",
              " 'en',\n",
              " 'y',\n",
              " 'a',\n",
              " 'los',\n",
              " 'del',\n",
              " 'se',\n",
              " 'las',\n",
              " 'por',\n",
              " 'un',\n",
              " 'para',\n",
              " 'con']"
            ]
          },
          "metadata": {},
          "execution_count": 18
        }
      ],
      "source": [
        "#Defino la stoplist\n",
        "stoplist = stopwords.words(\"spanish\")\n",
        "stoplist[:15]"
      ]
    },
    {
      "cell_type": "code",
      "execution_count": null,
      "metadata": {
        "id": "DEEZB-H58XXZ"
      },
      "outputs": [],
      "source": [
        "def tokenizer(text):\n",
        "    tokens = word_tokenize(text, language=\"spanish\")\n",
        "    return [\n",
        "        t.lower()\n",
        "        for t in tokens\n",
        "        if t.isalpha()\n",
        "        and t.lower() not in stoplist\n",
        "        and 2 <= len(t) <= 20\n",
        "        and len(set(t.lower())) > 1  #Descarta tokens con todas las letras iguales, ej: \"aa\", \"aaa\"\n",
        "    ]"
      ]
    },
    {
      "cell_type": "code",
      "execution_count": null,
      "metadata": {
        "id": "vFAK8fWu9WvH",
        "colab": {
          "base_uri": "https://localhost:8080/"
        },
        "outputId": "0fa2e751-4ddf-48f6-fc1a-423e343f6d78"
      },
      "outputs": [
        {
          "output_type": "stream",
          "name": "stdout",
          "text": [
            "Crítica original:\n",
            "Título de la película - TARTDATE DE REVISIÓN - 5/26 / 02YEAR DE PELÍCULA - 2001STARS - Dominique Swain, Brad Renfro, Bijou Phillips (apenas), Melanie Griffith (apenas) Clasificación de Necro - 4 cráneos de 10may contienen spoilersplotan \"Outcast\" Dominique Swain quiere Estar con el grupo \"en\" y, por lo tanto, abandona a sus verdaderos amigos y se une a ellos ............. MUCHAS PERSONAS RICULAS MUCHAS PERSONAS OCURRAS. ActiGugh, supongo que obtuve lo que quería en ese Dominique estaba bien, pero el hombre, el resto del reparto, además de que Brad Renfro fuera malo o, al menos, no interesante o agradable en absoluto. Sé que algunos podrían decir que los demás eran buenos porque me hicieron odiarlos ... Confiéis en mí ... Me gustan los caracteres improbables, pero este grupo es poco probable porque no pueden ser personas malas. Esa única. Otras personas con las que conseguí esto fueron apenas, incluso en ella y eso es Melanie Griffith y Bijou Phillips, pero el poco tiempo tenían que estaban bien. Melanie habló tal vez 2 líneas, pero al menos BIJOU tuviera un buen personaje, aunque la pequeña. La mente y la mente guiña estuvieron constantemente bajo un ataque del horrible diálogo y personajes muy molestos, ¡eso es suficiente violencia! Ok, había una señal con una roca que estaba bien. Y una desnudez Factorhahaha, ni siquiera podía agregar cualquier desnudez para ayudar a condimentar esta película, probablemente porque nadie quisiera soportar su cuerpo para esta basura. Si se van a exponer, deberían hacerlo en una película donde serán recordados como su carácter y no por \"Oh, oye, escuché que se desnuda en esta\". Vista general de la película (Revisión) Ok, sé que Me enorgullece de ser la persona que puede más, si no es casi todas las películas o, al menos, encuentra algo bueno en él. Bueno, esta película es una de las pocas que realmente luché para encontrar nada que valga la pena. El problema con esta película es que es tan molesto. Ya tengo un odio profundo para las actitudes de las personas ricas con snobby y tampoco lo ayudó. Toda esta película es realmente, es solo un grupo de personas ricas sentadas alrededor de la actuación deprimida y estúpida. No puedo enfatizar el factor de molestia lo suficiente. Esta película intenta volver ahash la trama intentada y verdadera \"en grupo\" que generalmente se puede hacer bien con poca dificultad. ¿Por qué no tengo una foto de la película o la cubierta de la caja? Bueno, sentí que esta película no merecía esa gloria, así que decidí poner una foto de la razón por la que alquilé esto, y esa razón no es otra que Dominique Swain. Sí, yo también me desperdicié de ella en Lolita y pensé que era tan buena que decidí desde entonces para revisarla en cualquier película en la que actúa. Al menos, mantengo mis promesas y sí, he visto la mayoría de sus películas, menos unas pocas difíciles de encontrar. Ella misma es una gran actriz y la defendería activamente, pero el hombre elige algunas de las películas más crapadas para estrellar. Esta película y fumadores están ambos en el mismo barco de crappiness, sino que al menos fumadores tenían una idea genial para una historia. e incluso algunas escenas reales de buenas. También la caja de DVD intenta engañarte a pensar que esta película tiene estrellas también en él al poner los nombres de Melanie Griffith y Bijou Phillips en la parte delantera de la caja. Si hay una cosa que p **** me apagó, es una película que pasta los nombres de las estrellas en una caja para hacerte pensar \"Wow, lo ha preguntado, me pregunto qué tan bueno ___is en este que vi ___ en esa película y pensé. ¡Ella era genial! \" Solo para tener los grandes nombres en la película para un total de tal vez 10 minutos entre el 2. Bijou en realidad tenía una parte que significaba algo. Melanie, por otro lado, solo tiene 2 líneas sobre .... Por supuesto, no me gusta Melanie mucho, pero esto se trata de ética y no a la estrella actuando. De todo este lío, aunque los accesorios deben ir a Brad Renfro para convertirse en Una actuación OK junto con Dominique. Brad puede ser un niño muy desordenado en la vida real, pero al menos puede actuar. Así que la única razón por la que esta película recibe cualquier calavera es porque obtuve lo que básicamente quería, que era Dominique Swain y Brad Renfro. También tuve el placer agregado de ver la actriz subestimada, Bijou Phillips, me gustan aún más. Así que, aunque estaba molesto durante todo lo que todavía salía con algunos aspectos positivos, aunque esto era bastante difícil esta vez. Te recomiendo que solo veas esto si has visto a Lolita y sabes lo buen dominio o si eres un fanático offbeat de Brad o Bijou. Los fanáticos de Uber Melanie estarán muy deprimidos. Además, si eres fanático de las películas de mierda, por favor, no asumas que este sea un placer culpable porque se sentirá culpable bien, por el dinero gastado en la compra o alquiler. Algunas películas son \"tan malas que son buenas\" como dice el dicho. Lo que se olvidaron de agregar fue \"tan malo que son buenos (pasar)\". NECRO\n",
            "\n",
            "Texto limpio:\n",
            "título de la película tartdate de revisión year de película stars dominique swain brad renfro bijou phillips apenas melanie griffith apenas clasificación de necro cráneos de may contienen spoilersplotan outcast dominique swain quiere estar con el grupo en por lo tanto abandona sus verdaderos amigos se une ellos muchas personas riculas muchas personas ocurras actigugh supongo que obtuve lo que quería en ese dominique estaba bien pero el hombre el resto del reparto además de que brad renfro fuera malo al menos no interesante agradable en absoluto sé que algunos podrían decir que los demás eran buenos porque me hicieron odiarlos confiéis en mí me gustan los caracteres improbables pero este grupo es poco probable porque no pueden ser personas malas esa única otras personas con las que conseguí esto fueron apenas incluso en ella eso es melanie griffith bijou phillips pero el poco tiempo tenían que estaban bien melanie habló tal vez líneas pero al menos bijou tuviera un buen personaje aunque la pequeña la mente la mente guiña estuvieron constantemente bajo un ataque del horrible diálogo personajes muy molestos eso es suficiente violencia ok había una señal con una roca que estaba bien una desnudez factorhahaha ni siquiera podía agregar cualquier desnudez para ayudar condimentar esta película probablemente porque nadie quisiera soportar su cuerpo para esta basura si se van exponer deberían hacerlo en una película donde serán recordados como su carácter no por oh oye escuché que se desnuda en esta vista general de la película revisión ok sé que me enorgullece de ser la persona que puede más si no es casi todas las películas al menos encuentra algo bueno en él bueno esta película es una de las pocas que realmente luché para encontrar nada que valga la pena el problema con esta película es que es tan molesto ya tengo un odio profundo para las actitudes de las personas ricas con snobby tampoco lo ayudó toda esta película es realmente es solo un grupo de personas ricas sentadas alrededor de la actuación deprimida estúpida no puedo enfatizar el factor de molestia lo suficiente esta película intenta volver ahash la trama intentada verdadera en grupo que generalmente se puede hacer bien con poca dificultad por qué no tengo una foto de la película la cubierta de la caja bueno sentí que esta película no merecía esa gloria así que decidí poner una foto de la razón por la que alquilé esto esa razón no es otra que dominique swain sí yo también me desperdicié de ella en lolita pensé que era tan buena que decidí desde entonces para revisarla en cualquier película en la que actúa al menos mantengo mis promesas sí he visto la mayoría de sus películas menos unas pocas difíciles de encontrar ella misma es una gran actriz la defendería activamente pero el hombre elige algunas de las películas más crapadas para estrellar esta película fumadores están ambos en el mismo barco de crappiness sino que al menos fumadores tenían una idea genial para una historia incluso algunas escenas reales de buenas también la caja de dvd intenta engañarte pensar que esta película tiene estrellas también en él al poner los nombres de melanie griffith bijou phillips en la parte delantera de la caja si hay una cosa que me apagó es una película que pasta los nombres de las estrellas en una caja para hacerte pensar wow lo ha preguntado me pregunto qué tan bueno is en este que vi en esa película pensé ella era genial solo para tener los grandes nombres en la película para un total de tal vez minutos entre el bijou en realidad tenía una parte que significaba algo melanie por otro lado solo tiene líneas sobre por supuesto no me gusta melanie mucho pero esto se trata de ética no la estrella actuando de todo este lío aunque los accesorios deben ir brad renfro para convertirse en una actuación ok junto con dominique brad puede ser un niño muy desordenado en la vida real pero al menos puede actuar así que la única razón por la que esta película recibe cualquier calavera es porque obtuve lo que básicamente quería que era dominique swain brad renfro también tuve el placer agregado de ver la actriz subestimada bijou phillips me gustan aún más así que aunque estaba molesto durante todo lo que todavía salía con algunos aspectos positivos aunque esto era bastante difícil esta vez te recomiendo que solo veas esto si has visto lolita sabes lo buen dominio si eres un fanático offbeat de brad bijou los fanáticos de uber melanie estarán muy deprimidos además si eres fanático de las películas de mierda por favor no asumas que este sea un placer culpable porque se sentirá culpable bien por el dinero gastado en la compra alquiler algunas películas son tan malas que son buenas como dice el dicho lo que se olvidaron de agregar fue tan malo que son buenos pasar necro\n",
            "\n",
            "Tokens:\n",
            "['título', 'película', 'tartdate', 'revisión', 'year', 'película', 'stars', 'dominique', 'swain', 'brad', 'renfro', 'bijou', 'phillips', 'apenas', 'melanie', 'griffith', 'apenas', 'clasificación', 'necro', 'cráneos', 'may', 'contienen', 'spoilersplotan', 'outcast', 'dominique', 'swain', 'quiere', 'grupo', 'abandona', 'verdaderos', 'amigos', 'une', 'muchas', 'personas', 'riculas', 'muchas', 'personas', 'ocurras', 'actigugh', 'supongo', 'obtuve', 'quería', 'dominique', 'bien', 'hombre', 'resto', 'reparto', 'además', 'brad', 'renfro', 'malo', 'menos', 'interesante', 'agradable', 'absoluto', 'sé', 'podrían', 'decir', 'demás', 'buenos', 'hicieron', 'odiarlos', 'confiéis', 'gustan', 'caracteres', 'improbables', 'grupo', 'probable', 'pueden', 'ser', 'personas', 'malas', 'única', 'personas', 'conseguí', 'apenas', 'incluso', 'melanie', 'griffith', 'bijou', 'phillips', 'tiempo', 'bien', 'melanie', 'habló', 'tal', 'vez', 'líneas', 'menos', 'bijou', 'buen', 'personaje', 'aunque', 'pequeña', 'mente', 'mente', 'guiña', 'constantemente', 'bajo', 'ataque', 'horrible', 'diálogo', 'personajes', 'molestos', 'suficiente', 'violencia', 'ok', 'señal', 'roca', 'bien', 'desnudez', 'factorhahaha', 'siquiera', 'podía', 'agregar', 'cualquier', 'desnudez', 'ayudar', 'condimentar', 'película', 'probablemente', 'nadie', 'quisiera', 'soportar', 'cuerpo', 'basura', 'si', 'van', 'exponer', 'deberían', 'hacerlo', 'película', 'recordados', 'carácter', 'oh', 'oye', 'escuché', 'desnuda', 'vista', 'general', 'película', 'revisión', 'ok', 'sé', 'enorgullece', 'ser', 'persona', 'puede', 'si', 'casi', 'todas', 'películas', 'menos', 'encuentra', 'bueno', 'bueno', 'película', 'pocas', 'realmente', 'luché', 'encontrar', 'valga', 'pena', 'problema', 'película', 'tan', 'molesto', 'odio', 'profundo', 'actitudes', 'personas', 'ricas', 'snobby', 'tampoco', 'ayudó', 'toda', 'película', 'realmente', 'solo', 'grupo', 'personas', 'ricas', 'sentadas', 'alrededor', 'actuación', 'deprimida', 'estúpida', 'puedo', 'enfatizar', 'factor', 'molestia', 'suficiente', 'película', 'intenta', 'volver', 'ahash', 'trama', 'intentada', 'verdadera', 'grupo', 'generalmente', 'puede', 'hacer', 'bien', 'poca', 'dificultad', 'foto', 'película', 'cubierta', 'caja', 'bueno', 'sentí', 'película', 'merecía', 'gloria', 'así', 'decidí', 'poner', 'foto', 'razón', 'alquilé', 'razón', 'dominique', 'swain', 'desperdicié', 'lolita', 'pensé', 'tan', 'buena', 'decidí', 'entonces', 'revisarla', 'cualquier', 'película', 'actúa', 'menos', 'mantengo', 'promesas', 'visto', 'mayoría', 'películas', 'menos', 'unas', 'pocas', 'difíciles', 'encontrar', 'misma', 'gran', 'actriz', 'defendería', 'activamente', 'hombre', 'elige', 'películas', 'crapadas', 'estrellar', 'película', 'fumadores', 'ambos', 'mismo', 'barco', 'crappiness', 'sino', 'menos', 'fumadores', 'idea', 'genial', 'historia', 'incluso', 'escenas', 'reales', 'buenas', 'caja', 'dvd', 'intenta', 'engañarte', 'pensar', 'película', 'estrellas', 'poner', 'nombres', 'melanie', 'griffith', 'bijou', 'phillips', 'parte', 'delantera', 'caja', 'si', 'cosa', 'apagó', 'película', 'pasta', 'nombres', 'estrellas', 'caja', 'hacerte', 'pensar', 'wow', 'preguntado', 'pregunto', 'tan', 'bueno', 'is', 'vi', 'película', 'pensé', 'genial', 'solo', 'tener', 'grandes', 'nombres', 'película', 'total', 'tal', 'vez', 'minutos', 'bijou', 'realidad', 'parte', 'significaba', 'melanie', 'lado', 'solo', 'líneas', 'supuesto', 'gusta', 'melanie', 'trata', 'ética', 'estrella', 'actuando', 'lío', 'aunque', 'accesorios', 'deben', 'ir', 'brad', 'renfro', 'convertirse', 'actuación', 'ok', 'junto', 'dominique', 'brad', 'puede', 'ser', 'niño', 'desordenado', 'vida', 'real', 'menos', 'puede', 'actuar', 'así', 'única', 'razón', 'película', 'recibe', 'cualquier', 'calavera', 'obtuve', 'básicamente', 'quería', 'dominique', 'swain', 'brad', 'renfro', 'placer', 'agregado', 'ver', 'actriz', 'subestimada', 'bijou', 'phillips', 'gustan', 'aún', 'así', 'aunque', 'molesto', 'todavía', 'salía', 'aspectos', 'positivos', 'aunque', 'bastante', 'difícil', 'vez', 'recomiendo', 'solo', 'veas', 'si', 'visto', 'lolita', 'sabes', 'buen', 'dominio', 'si', 'fanático', 'offbeat', 'brad', 'bijou', 'fanáticos', 'uber', 'melanie', 'deprimidos', 'además', 'si', 'fanático', 'películas', 'mierda', 'favor', 'asumas', 'placer', 'culpable', 'sentirá', 'culpable', 'bien', 'dinero', 'gastado', 'compra', 'alquiler', 'películas', 'tan', 'malas', 'buenas', 'dice', 'dicho', 'olvidaron', 'agregar', 'tan', 'malo', 'buenos', 'pasar', 'necro']\n"
          ]
        }
      ],
      "source": [
        "\n",
        "#Para chequear que estamos haciendo las cosas bien\n",
        "ejemplo = X_train_text.sample(1).iloc[0]\n",
        "\n",
        "print(\"Crítica original:\")\n",
        "print(ejemplo)\n",
        "print(\"\\nTexto limpio:\")\n",
        "print(clean_text(ejemplo))\n",
        "print(\"\\nTokens:\")\n",
        "print(tokenizer(clean_text(ejemplo)))"
      ]
    },
    {
      "cell_type": "code",
      "execution_count": null,
      "metadata": {
        "id": "DPHdrpoqCkRa",
        "colab": {
          "base_uri": "https://localhost:8080/",
          "height": 746
        },
        "outputId": "047c7c4b-81e5-4776-f584-44d7199bdfe5"
      },
      "outputs": [
        {
          "output_type": "stream",
          "name": "stdout",
          "text": [
            "Cantidad de textos en entrenamiento: 40000\n",
            "Cantidad de palabras distintas en entrenamiento: 158888\n",
            "\n",
            "\n"
          ]
        },
        {
          "output_type": "display_data",
          "data": {
            "text/plain": [
              "             palabra   frecuencia\n",
              "104323      película  2051.540167\n",
              "61863          haber  1126.564607\n",
              "140272         tener   881.016583\n",
              "151400           ver   880.824419\n",
              "110756         poder   842.671380\n",
              "63560          hacer   822.040955\n",
              "132249            si   605.525391\n",
              "142483           the   557.692037\n",
              "66993       historia   545.447317\n",
              "4624          alguno   526.957019\n",
              "134823          solo   524.191537\n",
              "106456  película ser   519.461812\n",
              "153107           vez   492.355147\n",
              "118524     realmente   477.920074\n",
              "87458          mejor   476.448397\n",
              "34724          decir   451.370681\n",
              "108896     personaje   447.783217\n",
              "17659           buen   428.834904\n",
              "47835         escena   419.604458\n",
              "102220       parecer   392.238205"
            ],
            "text/html": [
              "\n",
              "  <div id=\"df-948e905b-0afe-4930-b87a-ea5236cfbf64\" class=\"colab-df-container\">\n",
              "    <div>\n",
              "<style scoped>\n",
              "    .dataframe tbody tr th:only-of-type {\n",
              "        vertical-align: middle;\n",
              "    }\n",
              "\n",
              "    .dataframe tbody tr th {\n",
              "        vertical-align: top;\n",
              "    }\n",
              "\n",
              "    .dataframe thead th {\n",
              "        text-align: right;\n",
              "    }\n",
              "</style>\n",
              "<table border=\"1\" class=\"dataframe\">\n",
              "  <thead>\n",
              "    <tr style=\"text-align: right;\">\n",
              "      <th></th>\n",
              "      <th>palabra</th>\n",
              "      <th>frecuencia</th>\n",
              "    </tr>\n",
              "  </thead>\n",
              "  <tbody>\n",
              "    <tr>\n",
              "      <th>104323</th>\n",
              "      <td>película</td>\n",
              "      <td>2051.540167</td>\n",
              "    </tr>\n",
              "    <tr>\n",
              "      <th>61863</th>\n",
              "      <td>haber</td>\n",
              "      <td>1126.564607</td>\n",
              "    </tr>\n",
              "    <tr>\n",
              "      <th>140272</th>\n",
              "      <td>tener</td>\n",
              "      <td>881.016583</td>\n",
              "    </tr>\n",
              "    <tr>\n",
              "      <th>151400</th>\n",
              "      <td>ver</td>\n",
              "      <td>880.824419</td>\n",
              "    </tr>\n",
              "    <tr>\n",
              "      <th>110756</th>\n",
              "      <td>poder</td>\n",
              "      <td>842.671380</td>\n",
              "    </tr>\n",
              "    <tr>\n",
              "      <th>63560</th>\n",
              "      <td>hacer</td>\n",
              "      <td>822.040955</td>\n",
              "    </tr>\n",
              "    <tr>\n",
              "      <th>132249</th>\n",
              "      <td>si</td>\n",
              "      <td>605.525391</td>\n",
              "    </tr>\n",
              "    <tr>\n",
              "      <th>142483</th>\n",
              "      <td>the</td>\n",
              "      <td>557.692037</td>\n",
              "    </tr>\n",
              "    <tr>\n",
              "      <th>66993</th>\n",
              "      <td>historia</td>\n",
              "      <td>545.447317</td>\n",
              "    </tr>\n",
              "    <tr>\n",
              "      <th>4624</th>\n",
              "      <td>alguno</td>\n",
              "      <td>526.957019</td>\n",
              "    </tr>\n",
              "    <tr>\n",
              "      <th>134823</th>\n",
              "      <td>solo</td>\n",
              "      <td>524.191537</td>\n",
              "    </tr>\n",
              "    <tr>\n",
              "      <th>106456</th>\n",
              "      <td>película ser</td>\n",
              "      <td>519.461812</td>\n",
              "    </tr>\n",
              "    <tr>\n",
              "      <th>153107</th>\n",
              "      <td>vez</td>\n",
              "      <td>492.355147</td>\n",
              "    </tr>\n",
              "    <tr>\n",
              "      <th>118524</th>\n",
              "      <td>realmente</td>\n",
              "      <td>477.920074</td>\n",
              "    </tr>\n",
              "    <tr>\n",
              "      <th>87458</th>\n",
              "      <td>mejor</td>\n",
              "      <td>476.448397</td>\n",
              "    </tr>\n",
              "    <tr>\n",
              "      <th>34724</th>\n",
              "      <td>decir</td>\n",
              "      <td>451.370681</td>\n",
              "    </tr>\n",
              "    <tr>\n",
              "      <th>108896</th>\n",
              "      <td>personaje</td>\n",
              "      <td>447.783217</td>\n",
              "    </tr>\n",
              "    <tr>\n",
              "      <th>17659</th>\n",
              "      <td>buen</td>\n",
              "      <td>428.834904</td>\n",
              "    </tr>\n",
              "    <tr>\n",
              "      <th>47835</th>\n",
              "      <td>escena</td>\n",
              "      <td>419.604458</td>\n",
              "    </tr>\n",
              "    <tr>\n",
              "      <th>102220</th>\n",
              "      <td>parecer</td>\n",
              "      <td>392.238205</td>\n",
              "    </tr>\n",
              "  </tbody>\n",
              "</table>\n",
              "</div>\n",
              "    <div class=\"colab-df-buttons\">\n",
              "\n",
              "  <div class=\"colab-df-container\">\n",
              "    <button class=\"colab-df-convert\" onclick=\"convertToInteractive('df-948e905b-0afe-4930-b87a-ea5236cfbf64')\"\n",
              "            title=\"Convert this dataframe to an interactive table.\"\n",
              "            style=\"display:none;\">\n",
              "\n",
              "  <svg xmlns=\"http://www.w3.org/2000/svg\" height=\"24px\" viewBox=\"0 -960 960 960\">\n",
              "    <path d=\"M120-120v-720h720v720H120Zm60-500h600v-160H180v160Zm220 220h160v-160H400v160Zm0 220h160v-160H400v160ZM180-400h160v-160H180v160Zm440 0h160v-160H620v160ZM180-180h160v-160H180v160Zm440 0h160v-160H620v160Z\"/>\n",
              "  </svg>\n",
              "    </button>\n",
              "\n",
              "  <style>\n",
              "    .colab-df-container {\n",
              "      display:flex;\n",
              "      gap: 12px;\n",
              "    }\n",
              "\n",
              "    .colab-df-convert {\n",
              "      background-color: #E8F0FE;\n",
              "      border: none;\n",
              "      border-radius: 50%;\n",
              "      cursor: pointer;\n",
              "      display: none;\n",
              "      fill: #1967D2;\n",
              "      height: 32px;\n",
              "      padding: 0 0 0 0;\n",
              "      width: 32px;\n",
              "    }\n",
              "\n",
              "    .colab-df-convert:hover {\n",
              "      background-color: #E2EBFA;\n",
              "      box-shadow: 0px 1px 2px rgba(60, 64, 67, 0.3), 0px 1px 3px 1px rgba(60, 64, 67, 0.15);\n",
              "      fill: #174EA6;\n",
              "    }\n",
              "\n",
              "    .colab-df-buttons div {\n",
              "      margin-bottom: 4px;\n",
              "    }\n",
              "\n",
              "    [theme=dark] .colab-df-convert {\n",
              "      background-color: #3B4455;\n",
              "      fill: #D2E3FC;\n",
              "    }\n",
              "\n",
              "    [theme=dark] .colab-df-convert:hover {\n",
              "      background-color: #434B5C;\n",
              "      box-shadow: 0px 1px 3px 1px rgba(0, 0, 0, 0.15);\n",
              "      filter: drop-shadow(0px 1px 2px rgba(0, 0, 0, 0.3));\n",
              "      fill: #FFFFFF;\n",
              "    }\n",
              "  </style>\n",
              "\n",
              "    <script>\n",
              "      const buttonEl =\n",
              "        document.querySelector('#df-948e905b-0afe-4930-b87a-ea5236cfbf64 button.colab-df-convert');\n",
              "      buttonEl.style.display =\n",
              "        google.colab.kernel.accessAllowed ? 'block' : 'none';\n",
              "\n",
              "      async function convertToInteractive(key) {\n",
              "        const element = document.querySelector('#df-948e905b-0afe-4930-b87a-ea5236cfbf64');\n",
              "        const dataTable =\n",
              "          await google.colab.kernel.invokeFunction('convertToInteractive',\n",
              "                                                    [key], {});\n",
              "        if (!dataTable) return;\n",
              "\n",
              "        const docLinkHtml = 'Like what you see? Visit the ' +\n",
              "          '<a target=\"_blank\" href=https://colab.research.google.com/notebooks/data_table.ipynb>data table notebook</a>'\n",
              "          + ' to learn more about interactive tables.';\n",
              "        element.innerHTML = '';\n",
              "        dataTable['output_type'] = 'display_data';\n",
              "        await google.colab.output.renderOutput(dataTable, element);\n",
              "        const docLink = document.createElement('div');\n",
              "        docLink.innerHTML = docLinkHtml;\n",
              "        element.appendChild(docLink);\n",
              "      }\n",
              "    </script>\n",
              "  </div>\n",
              "\n",
              "\n",
              "    <div id=\"df-8d192a0e-9a79-46bc-8207-2a0cc899aa81\">\n",
              "      <button class=\"colab-df-quickchart\" onclick=\"quickchart('df-8d192a0e-9a79-46bc-8207-2a0cc899aa81')\"\n",
              "                title=\"Suggest charts\"\n",
              "                style=\"display:none;\">\n",
              "\n",
              "<svg xmlns=\"http://www.w3.org/2000/svg\" height=\"24px\"viewBox=\"0 0 24 24\"\n",
              "     width=\"24px\">\n",
              "    <g>\n",
              "        <path d=\"M19 3H5c-1.1 0-2 .9-2 2v14c0 1.1.9 2 2 2h14c1.1 0 2-.9 2-2V5c0-1.1-.9-2-2-2zM9 17H7v-7h2v7zm4 0h-2V7h2v10zm4 0h-2v-4h2v4z\"/>\n",
              "    </g>\n",
              "</svg>\n",
              "      </button>\n",
              "\n",
              "<style>\n",
              "  .colab-df-quickchart {\n",
              "      --bg-color: #E8F0FE;\n",
              "      --fill-color: #1967D2;\n",
              "      --hover-bg-color: #E2EBFA;\n",
              "      --hover-fill-color: #174EA6;\n",
              "      --disabled-fill-color: #AAA;\n",
              "      --disabled-bg-color: #DDD;\n",
              "  }\n",
              "\n",
              "  [theme=dark] .colab-df-quickchart {\n",
              "      --bg-color: #3B4455;\n",
              "      --fill-color: #D2E3FC;\n",
              "      --hover-bg-color: #434B5C;\n",
              "      --hover-fill-color: #FFFFFF;\n",
              "      --disabled-bg-color: #3B4455;\n",
              "      --disabled-fill-color: #666;\n",
              "  }\n",
              "\n",
              "  .colab-df-quickchart {\n",
              "    background-color: var(--bg-color);\n",
              "    border: none;\n",
              "    border-radius: 50%;\n",
              "    cursor: pointer;\n",
              "    display: none;\n",
              "    fill: var(--fill-color);\n",
              "    height: 32px;\n",
              "    padding: 0;\n",
              "    width: 32px;\n",
              "  }\n",
              "\n",
              "  .colab-df-quickchart:hover {\n",
              "    background-color: var(--hover-bg-color);\n",
              "    box-shadow: 0 1px 2px rgba(60, 64, 67, 0.3), 0 1px 3px 1px rgba(60, 64, 67, 0.15);\n",
              "    fill: var(--button-hover-fill-color);\n",
              "  }\n",
              "\n",
              "  .colab-df-quickchart-complete:disabled,\n",
              "  .colab-df-quickchart-complete:disabled:hover {\n",
              "    background-color: var(--disabled-bg-color);\n",
              "    fill: var(--disabled-fill-color);\n",
              "    box-shadow: none;\n",
              "  }\n",
              "\n",
              "  .colab-df-spinner {\n",
              "    border: 2px solid var(--fill-color);\n",
              "    border-color: transparent;\n",
              "    border-bottom-color: var(--fill-color);\n",
              "    animation:\n",
              "      spin 1s steps(1) infinite;\n",
              "  }\n",
              "\n",
              "  @keyframes spin {\n",
              "    0% {\n",
              "      border-color: transparent;\n",
              "      border-bottom-color: var(--fill-color);\n",
              "      border-left-color: var(--fill-color);\n",
              "    }\n",
              "    20% {\n",
              "      border-color: transparent;\n",
              "      border-left-color: var(--fill-color);\n",
              "      border-top-color: var(--fill-color);\n",
              "    }\n",
              "    30% {\n",
              "      border-color: transparent;\n",
              "      border-left-color: var(--fill-color);\n",
              "      border-top-color: var(--fill-color);\n",
              "      border-right-color: var(--fill-color);\n",
              "    }\n",
              "    40% {\n",
              "      border-color: transparent;\n",
              "      border-right-color: var(--fill-color);\n",
              "      border-top-color: var(--fill-color);\n",
              "    }\n",
              "    60% {\n",
              "      border-color: transparent;\n",
              "      border-right-color: var(--fill-color);\n",
              "    }\n",
              "    80% {\n",
              "      border-color: transparent;\n",
              "      border-right-color: var(--fill-color);\n",
              "      border-bottom-color: var(--fill-color);\n",
              "    }\n",
              "    90% {\n",
              "      border-color: transparent;\n",
              "      border-bottom-color: var(--fill-color);\n",
              "    }\n",
              "  }\n",
              "</style>\n",
              "\n",
              "      <script>\n",
              "        async function quickchart(key) {\n",
              "          const quickchartButtonEl =\n",
              "            document.querySelector('#' + key + ' button');\n",
              "          quickchartButtonEl.disabled = true;  // To prevent multiple clicks.\n",
              "          quickchartButtonEl.classList.add('colab-df-spinner');\n",
              "          try {\n",
              "            const charts = await google.colab.kernel.invokeFunction(\n",
              "                'suggestCharts', [key], {});\n",
              "          } catch (error) {\n",
              "            console.error('Error during call to suggestCharts:', error);\n",
              "          }\n",
              "          quickchartButtonEl.classList.remove('colab-df-spinner');\n",
              "          quickchartButtonEl.classList.add('colab-df-quickchart-complete');\n",
              "        }\n",
              "        (() => {\n",
              "          let quickchartButtonEl =\n",
              "            document.querySelector('#df-8d192a0e-9a79-46bc-8207-2a0cc899aa81 button');\n",
              "          quickchartButtonEl.style.display =\n",
              "            google.colab.kernel.accessAllowed ? 'block' : 'none';\n",
              "        })();\n",
              "      </script>\n",
              "    </div>\n",
              "\n",
              "    </div>\n",
              "  </div>\n"
            ],
            "application/vnd.google.colaboratory.intrinsic+json": {
              "type": "dataframe",
              "summary": "{\n  \"name\": \"display(freq_df\",\n  \"rows\": 20,\n  \"fields\": [\n    {\n      \"column\": \"palabra\",\n      \"properties\": {\n        \"dtype\": \"string\",\n        \"num_unique_values\": 20,\n        \"samples\": [\n          \"pel\\u00edcula\",\n          \"buen\",\n          \"decir\"\n        ],\n        \"semantic_type\": \"\",\n        \"description\": \"\"\n      }\n    },\n    {\n      \"column\": \"frecuencia\",\n      \"properties\": {\n        \"dtype\": \"number\",\n        \"std\": 380.89460112401116,\n        \"min\": 392.2382045206368,\n        \"max\": 2051.5401667575125,\n        \"num_unique_values\": 20,\n        \"samples\": [\n          2051.5401667575125,\n          428.83490415818966,\n          451.37068078511027\n        ],\n        \"semantic_type\": \"\",\n        \"description\": \"\"\n      }\n    }\n  ]\n}"
            }
          },
          "metadata": {}
        }
      ],
      "source": [
        "import warnings\n",
        "warnings.filterwarnings(\"ignore\", message=\"The parameter 'token_pattern' will not be used*\")\n",
        "\n",
        "from sklearn.feature_extraction.text import TfidfVectorizer\n",
        "\n",
        "vectorizer = TfidfVectorizer(\n",
        "    preprocessor = clean_and_lemmatize,  #Aplicamos limpieza + lematización\n",
        "    tokenizer = tokenizer,\n",
        "    min_df = 5,\n",
        "    max_df = 0.9,\n",
        "    ngram_range = (1, 2)                 # unigramas y bigramas\n",
        ")\n",
        "\n",
        "X_train_vect = vectorizer.fit_transform(X_train_text)\n",
        "X_val_vect = vectorizer.transform(X_val_text)\n",
        "\n",
        "print(\"Cantidad de textos en entrenamiento:\", X_train_vect.shape[0])\n",
        "print(\"Cantidad de palabras distintas en entrenamiento:\", X_train_vect.shape[1])\n",
        "print(\"\\n\")\n",
        "\n",
        "contador_palabras = np.array(X_train_vect.sum(axis = 0)).flatten() #Sumamos frecuencias por palabra\n",
        "palabras = vectorizer.get_feature_names_out() #Obtenemos las palabras del vocabulario\n",
        "\n",
        "#Armamos un DataFrame ordenado\n",
        "freq_df = pd.DataFrame({'palabra': palabras, 'frecuencia': contador_palabras})\n",
        "freq_df = freq_df.sort_values(by = 'frecuencia', ascending = False)\n",
        "\n",
        "#Mostramos las 20 más frecuentes\n",
        "display(freq_df.head(20))"
      ]
    },
    {
      "cell_type": "markdown",
      "metadata": {
        "id": "4inBt7rCo7An"
      },
      "source": [
        "Previo a establecer y entrenar los modelos, implementamos una función para poder observar las métricas en el conjunto train y test."
      ]
    },
    {
      "cell_type": "code",
      "execution_count": null,
      "metadata": {
        "id": "AICU4HdvbL4V"
      },
      "outputs": [],
      "source": [
        "from sklearn.metrics import accuracy_score, precision_score, recall_score, f1_score\n",
        "\n",
        "def evaluar(y_true, y_pred, nombre):\n",
        "    print(f\"--- {nombre} ---\")\n",
        "    print(f\"Accuracy : {accuracy_score(y_true, y_pred):.4f}\")\n",
        "    print(f\"Precision: {precision_score(y_true, y_pred, pos_label='positivo'):.4f}\")\n",
        "    print(f\"Recall   : {recall_score(y_true, y_pred, pos_label='positivo'):.4f}\")\n",
        "    print(f\"F1 Score : {f1_score(y_true, y_pred, pos_label='positivo'):.4f}\")\n",
        "    print()"
      ]
    },
    {
      "cell_type": "markdown",
      "metadata": {
        "id": "3VG1lFUGl0lJ"
      },
      "source": [
        "## Naive Bayes"
      ]
    },
    {
      "cell_type": "markdown",
      "metadata": {
        "id": "s2Wsn8FGl3c7"
      },
      "source": [
        "## Ensamble híbrido: Stacking\n",
        "\n",
        "(Multinomial NB, RandomForest, XGBoost) -> Regresion logística (Metamodelo)"
      ]
    },
    {
      "cell_type": "code",
      "execution_count": null,
      "metadata": {
        "id": "q5CmZQJunvYz",
        "colab": {
          "base_uri": "https://localhost:8080/"
        },
        "outputId": "4173ad13-b691-4a96-a98f-cfc1ef42d7ad"
      },
      "outputs": [
        {
          "output_type": "stream",
          "name": "stdout",
          "text": [
            "Collecting xgboost\n",
            "  Downloading xgboost-3.0.2-py3-none-manylinux_2_28_x86_64.whl.metadata (2.1 kB)\n",
            "Requirement already satisfied: numpy in /usr/local/lib/python3.11/dist-packages (from xgboost) (2.0.2)\n",
            "Collecting nvidia-nccl-cu12 (from xgboost)\n",
            "  Downloading nvidia_nccl_cu12-2.27.3-py3-none-manylinux2014_x86_64.manylinux_2_17_x86_64.whl.metadata (2.0 kB)\n",
            "Requirement already satisfied: scipy in /usr/local/lib/python3.11/dist-packages (from xgboost) (1.15.3)\n",
            "Downloading xgboost-3.0.2-py3-none-manylinux_2_28_x86_64.whl (253.9 MB)\n",
            "\u001b[2K   \u001b[90m━━━━━━━━━━━━━━━━━━━━━━━━━━━━━━━━━━━━━━━━\u001b[0m \u001b[32m253.9/253.9 MB\u001b[0m \u001b[31m4.2 MB/s\u001b[0m eta \u001b[36m0:00:00\u001b[0m\n",
            "\u001b[?25hDownloading nvidia_nccl_cu12-2.27.3-py3-none-manylinux2014_x86_64.manylinux_2_17_x86_64.whl (322.4 MB)\n",
            "\u001b[2K   \u001b[90m━━━━━━━━━━━━━━━━━━━━━━━━━━━━━━━━━━━━━━━━\u001b[0m \u001b[32m322.4/322.4 MB\u001b[0m \u001b[31m3.3 MB/s\u001b[0m eta \u001b[36m0:00:00\u001b[0m\n",
            "\u001b[?25hInstalling collected packages: nvidia-nccl-cu12, xgboost\n",
            "Successfully installed nvidia-nccl-cu12-2.27.3 xgboost-3.0.2\n"
          ]
        }
      ],
      "source": [
        "from sklearn.model_selection import RandomizedSearchCV\n",
        "from sklearn.svm import SVC\n",
        "from sklearn.ensemble import RandomForestClassifier, StackingClassifier\n",
        "!pip install xgboost\n",
        "from xgboost import XGBClassifier\n",
        "from sklearn.linear_model import LogisticRegression\n",
        "\n",
        "\n",
        "from sklearn.linear_model import LogisticRegression\n",
        "from sklearn.model_selection import GridSearchCV"
      ]
    },
    {
      "cell_type": "markdown",
      "source": [
        "Comenzamos entrenando cada modelo por separado, para luego usarlos con el metamodelo."
      ],
      "metadata": {
        "id": "H6x9gcIk8GQx"
      }
    },
    {
      "cell_type": "markdown",
      "source": [
        "Usamos GridSearchCV con 5 folds y almacenamos el mejor estimador para usar con el metamodelo.\n",
        "\n",
        "El alpha es el Soothing parameter, un tipo de suavizado para mejorar la generalización."
      ],
      "metadata": {
        "id": "zQ8-xFIb-OzK"
      }
    },
    {
      "cell_type": "code",
      "source": [
        "from sklearn.naive_bayes import MultinomialNB\n",
        "from sklearn.model_selection import GridSearchCV\n",
        "\n",
        "# MODELO 1: MultinomialNB\n",
        "\n",
        "nb_param_grid = {\n",
        "    'alpha': [0.01, 0.05, 0.1, 0.2, 0.5, 0.8, 1.0, 1.5, 2.0]\n",
        "}\n",
        "\n",
        "nb_model = MultinomialNB()\n",
        "\n",
        "nb_search = GridSearchCV(\n",
        "    nb_model,\n",
        "    nb_param_grid,\n",
        "    cv=5,\n",
        "    scoring='f1_macro',\n",
        "    n_jobs=-1,\n",
        "    verbose=1\n",
        ")\n",
        "\n",
        "nb_search.fit(X_train_vect, y_train)\n",
        "best_nb = nb_search.best_estimator_\n",
        "print(\"Mejores hiperparámetros MultinomialNB:\", nb_search.best_params_)"
      ],
      "metadata": {
        "id": "jVrM4wk0gnUX",
        "colab": {
          "base_uri": "https://localhost:8080/"
        },
        "outputId": "ba840459-f75a-4159-bdfa-5072a266c486"
      },
      "execution_count": null,
      "outputs": [
        {
          "output_type": "stream",
          "name": "stdout",
          "text": [
            "Fitting 5 folds for each of 9 candidates, totalling 45 fits\n",
            "Mejores hiperparámetros MultinomialNB: {'alpha': 0.5}\n"
          ]
        }
      ]
    },
    {
      "cell_type": "markdown",
      "source": [
        "Seguimos con el segundo modelo, el RandomForest. En este caso, al tener un espacio de búsqueda muy grande, optamos por usar primero RandomizedSearchCV con 5 folds y luego aplicamos GridSearchCV con 5 folds sobre el Top5 combinaciones de hiperparámetros."
      ],
      "metadata": {
        "id": "tPNoEmDK8UAi"
      }
    },
    {
      "cell_type": "markdown",
      "source": [
        "Entonces comenzamos con el RandomizedSearchCV con 5 folds."
      ],
      "metadata": {
        "id": "XNgzY2NO_Ipi"
      }
    },
    {
      "cell_type": "code",
      "source": [
        "from sklearn.ensemble import RandomForestClassifier\n",
        "from sklearn.model_selection import RandomizedSearchCV, GridSearchCV\n",
        "import pandas as pd\n",
        "\n",
        "# MODELO 2: RandomForest\n",
        "\n",
        "    #1ero: RANDOMIZED SEARCH\n",
        "\n",
        "rf_param_dist = {\n",
        "    'n_estimators': [200, 300, 400],\n",
        "    'max_depth': [10, 20, 30],\n",
        "    'min_samples_split': [2, 5, 10],\n",
        "    'min_samples_leaf': [1, 2, 4],\n",
        "    'max_features': ['sqrt', 'log2']\n",
        "}\n",
        "\n",
        "rf_model = RandomForestClassifier(random_state=42)\n",
        "\n",
        "random_search = RandomizedSearchCV(\n",
        "    rf_model,\n",
        "    rf_param_dist,\n",
        "    n_iter=13,\n",
        "    cv=5,\n",
        "    scoring='f1_macro',\n",
        "    n_jobs=-1,\n",
        "    verbose=1,\n",
        "    random_state=42,\n",
        "    return_train_score=True\n",
        ")\n",
        "\n",
        "random_search.fit(X_train_vect, y_train)\n",
        "\n",
        "results = pd.DataFrame(random_search.cv_results_)\n",
        "top5 = results.sort_values(by='rank_test_score').head(5)\n",
        "top5_params = top5['params'].tolist()"
      ],
      "metadata": {
        "id": "FWDTAQyPgpWU",
        "colab": {
          "base_uri": "https://localhost:8080/"
        },
        "outputId": "a8c3a850-6ecc-45ed-f35c-0cd1b354cc5a"
      },
      "execution_count": null,
      "outputs": [
        {
          "output_type": "stream",
          "name": "stdout",
          "text": [
            "Fitting 5 folds for each of 13 candidates, totalling 65 fits\n"
          ]
        }
      ]
    },
    {
      "cell_type": "markdown",
      "source": [
        "Observamos el Top5 parámetros para luego usarlos con GridSearchCV:"
      ],
      "metadata": {
        "id": "2j54bho8_NlJ"
      }
    },
    {
      "cell_type": "code",
      "source": [
        "for param in top5_params:\n",
        "    print(param)"
      ],
      "metadata": {
        "colab": {
          "base_uri": "https://localhost:8080/"
        },
        "id": "2I2woxzbUfqx",
        "outputId": "26d43e06-c901-41e4-f5d0-a53b244e26a1"
      },
      "execution_count": null,
      "outputs": [
        {
          "output_type": "stream",
          "name": "stdout",
          "text": [
            "{'n_estimators': 300, 'min_samples_split': 2, 'min_samples_leaf': 1, 'max_features': 'sqrt', 'max_depth': 30}\n",
            "{'n_estimators': 400, 'min_samples_split': 5, 'min_samples_leaf': 4, 'max_features': 'sqrt', 'max_depth': 30}\n",
            "{'n_estimators': 400, 'min_samples_split': 5, 'min_samples_leaf': 4, 'max_features': 'log2', 'max_depth': 30}\n",
            "{'n_estimators': 300, 'min_samples_split': 2, 'min_samples_leaf': 1, 'max_features': 'sqrt', 'max_depth': 20}\n",
            "{'n_estimators': 400, 'min_samples_split': 2, 'min_samples_leaf': 4, 'max_features': 'log2', 'max_depth': 20}\n"
          ]
        }
      ]
    },
    {
      "cell_type": "markdown",
      "source": [
        "Una vez propuesto un espacio más acotado con los mejores hiperparámetros, utilizamos GridSearchCV con 5 folds. Para cada hiperparámetro, le sumamos/restamos valores para probar los valores que están alrededor del mejor hiperparámetro."
      ],
      "metadata": {
        "id": "vaxflRiC_r5J"
      }
    },
    {
      "cell_type": "code",
      "source": [
        "# MODELO 2: RandomForest\n",
        "\n",
        "    #2do: GRID SEARCH\n",
        "base_params = top5_params[0]\n",
        "\n",
        "grid_params = {\n",
        "    'n_estimators': sorted(set([\n",
        "        max(10, base_params['n_estimators'] - 50),\n",
        "        base_params['n_estimators'],\n",
        "        base_params['n_estimators'] + 50\n",
        "    ])),\n",
        "    'max_depth': sorted(set([\n",
        "        base_params['max_depth'] - 5,\n",
        "        base_params['max_depth'],\n",
        "        base_params['max_depth'] + 5\n",
        "    ])),\n",
        "    'min_samples_split': sorted(set([\n",
        "        max(2, base_params['min_samples_split'] - 2),\n",
        "        base_params['min_samples_split'],\n",
        "        base_params['min_samples_split'] + 2\n",
        "    ])),\n",
        "    'min_samples_leaf': sorted(set([\n",
        "        max(1, base_params['min_samples_leaf'] - 1),\n",
        "        base_params['min_samples_leaf'],\n",
        "        base_params['min_samples_leaf'] + 1\n",
        "    ])),\n",
        "    'max_features': [base_params['max_features']],\n",
        "}\n",
        "\n",
        "print(\"GridSearch parámetros finales:\", grid_params)\n",
        "\n",
        "grid_search = GridSearchCV(\n",
        "    rf_model,\n",
        "    param_grid=grid_params,\n",
        "    cv=3,\n",
        "    scoring='f1_macro',\n",
        "    n_jobs=-1,\n",
        "    verbose=1\n",
        ")\n",
        "\n",
        "grid_search.fit(X_train_vect, y_train)\n",
        "\n",
        "best_rf = grid_search.best_estimator_\n",
        "print(\"\\nMejores hiperparámetros Random Forest (refinados):\", grid_search.best_params_)"
      ],
      "metadata": {
        "id": "eGgvxtkYoBpt",
        "colab": {
          "base_uri": "https://localhost:8080/"
        },
        "outputId": "22783091-69bc-46bb-8bb7-8e5fd1dc3951"
      },
      "execution_count": null,
      "outputs": [
        {
          "output_type": "stream",
          "name": "stdout",
          "text": [
            "GridSearch parámetros finales: {'n_estimators': [250, 300, 350], 'max_depth': [25, 30, 35], 'min_samples_split': [2, 4], 'min_samples_leaf': [1, 2], 'max_features': ['sqrt']}\n",
            "Fitting 3 folds for each of 36 candidates, totalling 108 fits\n",
            "\n",
            "Mejores hiperparámetros Random Forest (refinados): {'max_depth': 35, 'max_features': 'sqrt', 'min_samples_leaf': 1, 'min_samples_split': 4, 'n_estimators': 300}\n"
          ]
        }
      ]
    },
    {
      "cell_type": "markdown",
      "source": [
        "Finalmente, nos quedamos con la mejor combinación de hiperparámetros para usar en el Stacking!"
      ],
      "metadata": {
        "id": "7n2aLt7vA5P4"
      }
    },
    {
      "cell_type": "markdown",
      "source": [
        "Para el XGBoost fue necesario encodear para que XGBoost pudiera procesar los datos. Al encodear, no lo hicimos sobre el y_train original, por lo que no fue necesario desencodearlo al final!\n",
        "\n",
        "Además, aplicamos RandomizedSearchCV con 5 folds ya que el espacio es muy grande. Serían 540 combinaciones. **SI QUEREMOS MEJORAR MÁS EL MODELO PODEMOS VER DE HACER LO DE RANDOM Y DESP GRID!!! O AGARRAR LOS MAS COMUNES DE RANDOM EN UN TOP MAS GRANDE Y USAR GRID CON ESOS :)**"
      ],
      "metadata": {
        "id": "7qox2FF7BVXI"
      }
    },
    {
      "cell_type": "code",
      "source": [
        "from sklearn.preprocessing import LabelEncoder\n",
        "\n",
        "# MODELO 3: XGBoost\n",
        "\n",
        "#Encodeamos porque sino XGBoost no lo puede procesar\n",
        "le = LabelEncoder()\n",
        "y_train_enc = le.fit_transform(y_train)\n",
        "\n",
        "xgb_param_grid = {\n",
        "    'n_estimators': [50, 100, 200],\n",
        "    'learning_rate': [0.01, 0.1, 0.3],\n",
        "    'max_depth': [3, 6, 10],\n",
        "    'subsample': [0.6, 0.8],\n",
        "    'colsample_bytree': [0.6, 0.8],\n",
        "    'gamma': [0, 0.1, 0.3, 0.5, 1.0]\n",
        "}\n",
        "\n",
        "xgb_model = XGBClassifier(use_label_encoder=False, eval_metric='logloss', random_state=42)\n",
        "\n",
        "xgb_search = RandomizedSearchCV(\n",
        "    xgb_model, xgb_param_grid, cv=5, n_iter=8,\n",
        "    scoring='f1_macro', n_jobs=-1, random_state=42\n",
        ")\n",
        "xgb_search.fit(X_train_vect, y_train_enc)\n",
        "\n",
        "best_xgb = xgb_search.best_estimator_\n",
        "print(\"Mejores hiperparámetros XGBoost:\", xgb_search.best_params_)\n",
        "\n"
      ],
      "metadata": {
        "id": "Bbuw7F_sgrlY",
        "colab": {
          "base_uri": "https://localhost:8080/"
        },
        "outputId": "ad83d8a5-a816-4f4c-afb6-8c5fa910c3c4"
      },
      "execution_count": null,
      "outputs": [
        {
          "output_type": "stream",
          "name": "stderr",
          "text": [
            "/usr/local/lib/python3.11/dist-packages/joblib/externals/loky/process_executor.py:782: UserWarning: A worker stopped while some jobs were given to the executor. This can be caused by a too short worker timeout or by a memory leak.\n",
            "  warnings.warn(\n"
          ]
        }
      ]
    },
    {
      "cell_type": "markdown",
      "source": [
        "Finalmente, una vez hallados los mejores hiperparámetros para cada modelo que forma parte del Stacking, procedemos a usarlos."
      ],
      "metadata": {
        "id": "WHujj9qHEctQ"
      }
    },
    {
      "cell_type": "code",
      "source": [
        "from sklearn.ensemble import StackingClassifier\n",
        "from sklearn.linear_model import LogisticRegression\n",
        "\n",
        "# MODELO FINAL: STACKING CON RF, XGB, MNB Y REGRESIÓN LOGÍSTICA COMO METAMODELO\n",
        "\n",
        "#Tomamos los mejores hiperparámetros de cada modelo para trabajar\n",
        "estimators = [\n",
        "    ('nb', best_nb),\n",
        "    ('rf', best_rf),\n",
        "    ('xgb', best_xgb)\n",
        "]\n",
        "\n",
        "stacking_model = StackingClassifier(\n",
        "    estimators=estimators,\n",
        "    final_estimator=LogisticRegression(random_state=42),\n",
        "    passthrough=True,  #esto PODRIA llegar a generar overfitting, podemos probar sacarlo a futuro o no porq tb aporta info al modelo y los profes lo usan en la práctica!\n",
        "    cv=3, #Se puede aumentar también pero probé bajarlo de 5 a 3 porque quizás generaba overfitting.\n",
        "    n_jobs=-1\n",
        ")\n",
        "\n",
        "#Entrenamos del modelo final\n",
        "stacking_model.fit(X_train_vect, y_train)\n",
        "\n",
        "#Evaluamos en train y validación\n",
        "y_train_pred = stacking_model.predict(X_train_vect)\n",
        "y_val_pred = stacking_model.predict(X_val_vect)\n",
        "\n",
        "evaluar(y_train, y_train_pred, \"STACKING (NB + RF + XGB) - TRAIN\")\n",
        "evaluar(y_val, y_val_pred, \"STACKING (NB + RF + XGB) - VALIDACIÓN\")"
      ],
      "metadata": {
        "id": "mAxA8K2vgsub"
      },
      "execution_count": null,
      "outputs": []
    },
    {
      "cell_type": "markdown",
      "source": [
        "Predecimos sobre el conjunto de test y preparamos todo para subir a Kaggle."
      ],
      "metadata": {
        "id": "USYv3fmuGpzD"
      }
    },
    {
      "cell_type": "code",
      "source": [
        "# Vectorizamos los datos de test\n",
        "X_test_vect = vectorizer.transform(test_df['review_es'])\n",
        "\n",
        "# Predicción del sentimiento\n",
        "y_test_pred = stacking_model.predict(X_test_vect)\n",
        "\n",
        "# Construcción del DataFrame de submission\n",
        "submission = pd.DataFrame({\n",
        "    'ID': test_df['ID'],\n",
        "    'sentimiento': y_test_pred\n",
        "})\n",
        "\n",
        "# Exportar a CSV\n",
        "submission.to_csv('stacking_submission.csv', index=False)\n"
      ],
      "metadata": {
        "id": "InmY13y9gQcJ"
      },
      "execution_count": null,
      "outputs": []
    },
    {
      "cell_type": "code",
      "source": [
        "#con esto lo descargamos\n",
        "from google.colab import files\n",
        "files.download('stacking_submission.csv')"
      ],
      "metadata": {
        "id": "qCOfGQCGothp"
      },
      "execution_count": null,
      "outputs": []
    },
    {
      "cell_type": "markdown",
      "metadata": {
        "id": "y1gmNXOBl13p"
      },
      "source": [
        "Redes Neuronales"
      ]
    },
    {
      "cell_type": "code",
      "execution_count": null,
      "metadata": {
        "id": "Fk19Tg7uj_QB"
      },
      "outputs": [],
      "source": []
    }
  ],
  "metadata": {
    "accelerator": "TPU",
    "colab": {
      "gpuType": "V28",
      "provenance": [],
      "include_colab_link": true
    },
    "kernelspec": {
      "display_name": "Python 3",
      "name": "python3"
    },
    "language_info": {
      "name": "python"
    }
  },
  "nbformat": 4,
  "nbformat_minor": 0
}